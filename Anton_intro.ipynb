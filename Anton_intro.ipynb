{
  "cells": [
    {
      "cell_type": "markdown",
      "metadata": {
        "id": "3Ljvw5mkdYma"
      },
      "source": [
        "#С некоторого момента прошло 234 дня. Сколько полных недель прошло за этот период? А месяцев?"
      ]
    },
    {
      "cell_type": "code",
      "execution_count": null,
      "metadata": {
        "colab": {
          "base_uri": "https://localhost:8080/"
        },
        "id": "k6tyFm9WdcLW",
        "outputId": "bad4a778-f2a4-4435-d304-a5943168ddb7"
      },
      "outputs": [
        {
          "name": "stdout",
          "output_type": "stream",
          "text": [
            "недель: 33\n",
            "месяцев: 8\n"
          ]
        }
      ],
      "source": [
        "time = 234\n",
        "week = time / 7\n",
        "Mounth = week / 4\n",
        "print(\"недель: \" + str(int(week)) + \"\\nмесяцев: \" + str(int(Mounth)))"
      ]
    },
    {
      "cell_type": "markdown",
      "metadata": {
        "id": "ei9G1FG3eeDW"
      },
      "source": [
        "#Дано двузначное число 39. Найти: число десятков в нем; число единиц в нем;сумму его цифр; произведение его цифр."
      ]
    },
    {
      "cell_type": "code",
      "execution_count": null,
      "metadata": {
        "colab": {
          "base_uri": "https://localhost:8080/"
        },
        "id": "L-Z6CtXEjj7h",
        "outputId": "3f582c18-06e9-4e48-b247-542b7c998fe8"
      },
      "outputs": [
        {
          "name": "stdout",
          "output_type": "stream",
          "text": [
            "3\n",
            "9\n",
            "12\n",
            "27\n"
          ]
        }
      ],
      "source": [
        "nymder = 39\n",
        "dez = int(nymder / 10)\n",
        "chis = nymder %10\n",
        "print(dez)\n",
        "print(chis)\n",
        "print(dez+chis)\n",
        "print(dez*chis)"
      ]
    },
    {
      "cell_type": "markdown",
      "metadata": {
        "id": "gJ5k6CnPkWTX"
      },
      "source": [
        "#Известно значение температуры по шкале Цельсия 36,6. Найти соответствующее значение температуры по шкале:\n",
        "- Фаренгейта;\n",
        "- Кельвина.\n",
        "Для пересчета по шкале Фаренгейта необходимо исходное значение температуры умножить на 1,8 и к результату прибавить 32, а по шкале Кельвина абсолютное значение нуля соответствует 273,15 градуса по шкале Цельсия."
      ]
    },
    {
      "cell_type": "code",
      "execution_count": null,
      "metadata": {
        "colab": {
          "base_uri": "https://localhost:8080/"
        },
        "id": "PMfoVxsTkx4B",
        "outputId": "3c7d1aad-1fe4-417e-afd4-b5776a4dd8bc"
      },
      "outputs": [
        {
          "name": "stdout",
          "output_type": "stream",
          "text": [
            "97.88000000000001\n",
            "309.75\n"
          ]
        }
      ],
      "source": [
        "temp = 36.6\n",
        "Far = temp * 1.8 + 32\n",
        "print(Far)\n",
        "Kel = float(temp) + 273.15\n",
        "print(Kel)"
      ]
    },
    {
      "cell_type": "markdown",
      "metadata": {
        "id": "Nx_QkWjwnfP0"
      },
      "source": [
        "#Дано трехзначное число. Найти:\n",
        "- число единиц в нем;\n",
        "- число десятков в нем;\n",
        "- сумму его цифр;\n",
        "- произведение его цифр."
      ]
    },
    {
      "cell_type": "code",
      "execution_count": null,
      "metadata": {
        "colab": {
          "base_uri": "https://localhost:8080/"
        },
        "id": "wRJtWWvGniwA",
        "outputId": "75b4de8c-a3a2-4916-ddf8-df2b1e53bbd8"
      },
      "outputs": [
        {
          "name": "stdout",
          "output_type": "stream",
          "text": [
            "582\n",
            "2\n",
            "8\n",
            "15\n",
            "80\n"
          ]
        }
      ],
      "source": [
        "numder = int(input())\n",
        "#numder = 125\n",
        "edin = numder %100\n",
        "edin = edin %10\n",
        "print (edin)\n",
        "numder_str = str(numder)\n",
        "dez = int(numder_str[1])\n",
        "print(dez)\n",
        "sto = int(numder_str[0])\n",
        "print(sto+dez+edin)\n",
        "print(sto*dez*edin)"
      ]
    },
    {
      "cell_type": "markdown",
      "metadata": {
        "id": "gQ8AKhxyqUe-"
      },
      "source": [
        "Известны площади круга и квадрата. Определить:\n",
        "- поместится ли круг в квадрате?\n",
        "- поместится ли квадрат в круге?"
      ]
    },
    {
      "cell_type": "code",
      "execution_count": null,
      "metadata": {
        "colab": {
          "base_uri": "https://localhost:8080/"
        },
        "id": "2SnNLXPIqYsB",
        "outputId": "59151f6b-bb26-403e-f339-c176f647fa99"
      },
      "outputs": [
        {
          "name": "stdout",
          "output_type": "stream",
          "text": [
            "5\n",
            "5\n",
            "круг внутри квадрата False\n",
            "квадрат в круге True\n"
          ]
        }
      ],
      "source": [
        "import math\n",
        "radius = int(input())\n",
        "storona_a = int(input())\n",
        "polovina_c = (storona_a * math.sqrt(2)) / 2\n",
        "print(\"круг внутри квадрата \" + str( polovina_c > radius))\n",
        "print(\"квадрат в круге \" + str(polovina_c < radius))"
      ]
    },
    {
      "cell_type": "markdown",
      "metadata": {
        "id": "B1ZeNQzyuq8m"
      },
      "source": [
        "Дано натуральное число. Определить:\n",
        "- является ли оно четным;\n",
        "- оканчивается ли оно цифрой 7"
      ]
    },
    {
      "cell_type": "code",
      "execution_count": null,
      "metadata": {
        "colab": {
          "base_uri": "https://localhost:8080/"
        },
        "id": "TjduvLxguvTg",
        "outputId": "b8441a71-ac8c-446e-86cc-e8b7818ef2cb"
      },
      "outputs": [
        {
          "name": "stdout",
          "output_type": "stream",
          "text": [
            "1234567\n",
            "False\n",
            "True\n"
          ]
        }
      ],
      "source": [
        "num = int(input())\n",
        "num2 = num %2\n",
        "print(num2 == 0)\n",
        "num_str = str(num)\n",
        "num_araund = int(num_str[-1::])\n",
        "print(num_araund == 7)"
      ]
    },
    {
      "cell_type": "markdown",
      "metadata": {
        "id": "NUcbmu46yGxH"
      },
      "source": [
        "#Составить программу, которая уменьшает первое введенное число в два раза, если оно больше второго введенного числа по абсолютной величине."
      ]
    },
    {
      "cell_type": "code",
      "execution_count": null,
      "metadata": {
        "colab": {
          "base_uri": "https://localhost:8080/"
        },
        "id": "X3FKuWAfzFCK",
        "outputId": "0a74c713-2f84-444f-fe5c-63335b454db5"
      },
      "outputs": [
        {
          "name": "stdout",
          "output_type": "stream",
          "text": [
            "14\n",
            "258\n"
          ]
        }
      ],
      "source": [
        "num1 = float(input())\n",
        "num2 = float(input())\n",
        "if abs(num1) > abs(num2):\n",
        "  num1 = num1 / 2\n",
        "  print(num1)\n"
      ]
    },
    {
      "cell_type": "markdown",
      "metadata": {
        "id": "CI9GQ3f26ZjK"
      },
      "source": [
        "#Известен вес боксера-любителя. Известно, что вес таков, что боксер может быть отнесен к одной из трех весовых категорий:\n",
        "- легкий вес — до 60 кг;\n",
        "- средний вес — до 75 кг;\n",
        "- тяжелый вес — до 91 кг;\n",
        "- супертяжелый вес – с 91 кг.\n",
        "Определить, в какой категории будет выступать данный боксер."
      ]
    },
    {
      "cell_type": "code",
      "execution_count": null,
      "metadata": {
        "colab": {
          "base_uri": "https://localhost:8080/"
        },
        "id": "fIMv2TgK6aV7",
        "outputId": "d2afc113-f1bb-48ae-d6cc-f7cf047637b6"
      },
      "outputs": [
        {
          "name": "stdout",
          "output_type": "stream",
          "text": [
            "92\n",
            "супертяжелый вес\n"
          ]
        }
      ],
      "source": [
        "box = float(input())\n",
        "if box <= 60:\n",
        "  print(\"легкий вес\")\n",
        "elif box <= 75:\n",
        "    print(\"средний вес\")\n",
        "elif box <= 91:\n",
        "      print(\"тяжелый вес\")\n",
        "else: print(\"супертяжелый вес\")"
      ]
    },
    {
      "cell_type": "markdown",
      "metadata": {
        "id": "T25ZSxp-AEG-"
      },
      "source": [
        "#Задачки от Антона"
      ]
    },
    {
      "cell_type": "markdown",
      "metadata": {
        "id": "lqsAJf8-AMVe"
      },
      "source": [
        "На ввод дается массив целых чисел nums и целочисленная \"цель\", верните индексы двух чисел таким образом, чтобы они в сумме давали \"цель\".\n",
        "\n",
        "Вы можете предположить, что у каждого входного сигнала будет ровно одно решение, и вы не сможете использовать один и тот же элемент массива дважды.\n",
        "\n",
        "Вы можете вернуть ответ в любом порядке.\n",
        "\n",
        "Example 1:\n",
        "Input: nums = [2,7,11,15], target = 9\n",
        "Output: [0,1]\n",
        "Explanation: Because nums[0] + nums[1] == 9, we return [0, 1].\n",
        "\n",
        "Example 2:\n",
        "Input: nums = [3,2,4], target = 6\n",
        "Output: [1,2]\n",
        "\n",
        "Example 3:\n",
        "Input: nums = [3,3], target = 6\n",
        "Output: [0,1]\n",
        "\n",
        "Запускать на правильность можно тут\n",
        "\n",
        "P.S.\n",
        "Для решения нужно знать\n",
        "- циклы\n",
        "- массивы\n",
        "- числа\n",
        "- условия"
      ]
    },
    {
      "cell_type": "code",
      "execution_count": null,
      "metadata": {
        "colab": {
          "base_uri": "https://localhost:8080/"
        },
        "id": "CukAKy9jfvNb",
        "outputId": "caa3ec45-49d0-4854-feec-244f50c0ad77"
      },
      "outputs": [
        {
          "name": "stdout",
          "output_type": "stream",
          "text": [
            "0 1\n"
          ]
        }
      ],
      "source": [
        "new_var = [2,7,11,15]\n",
        "nums = 9\n",
        "for i in range(len(new_var)-1):\n",
        "    for g in range(i+1,len(new_var)):\n",
        "        summ = new_var[i] + new_var[g]\n",
        "        if summ == nums:\n",
        "          print(i, g)\n"
      ]
    },
    {
      "cell_type": "code",
      "execution_count": null,
      "metadata": {
        "id": "wpDknOTQv2Pw"
      },
      "outputs": [],
      "source": [
        "def containsDuplicate(nums):\n",
        "    seen = set()\n",
        "    for num in nums:\n",
        "        if num in seen:\n",
        "            return True\n",
        "        seen.add(num)\n",
        "    return False\n"
      ]
    },
    {
      "cell_type": "code",
      "execution_count": null,
      "metadata": {
        "colab": {
          "base_uri": "https://localhost:8080/"
        },
        "id": "AggWGPKJPs9d",
        "outputId": "7e2a894b-5048-479d-ad04-517fccfff6bc"
      },
      "outputs": [
        {
          "output_type": "stream",
          "name": "stdout",
          "text": [
            "[1, 2, 3, 4, 5, 6]\n",
            "[1, 2, 3, 4, 5, 6] 1\n"
          ]
        }
      ],
      "source": [
        "list1 = [1,2,3]\n",
        "list2 = [4,5,6]\n",
        "list_nums = list1 + list2\n",
        "print(list_nums)\n",
        "swap_bool = True\n",
        "shet = 0\n",
        "while swap_bool:\n",
        "    swap_bool = False\n",
        "    for i in range(len(list_nums) - 1):\n",
        "      if list_nums[i] > list_nums[i + 1]:\n",
        "         list_nums[i], list_nums[i + 1] = list_nums[i + 1], list_nums[i]\n",
        "         swap_bool = True\n",
        "    shet += 1\n",
        "print(list_nums, shet)"
      ]
    },
    {
      "cell_type": "code",
      "source": [
        "#insertion_sot\n",
        "list1 = [1,2,3,4,5,6,7]\n",
        "list2 = []\n",
        "  for i in range(len(list1)-1)\n",
        "    if list1[i] < list[i+1]\n",
        "      list1[i], list1[i+1] = list1[i+1], list1[i]\n",
        "    list2.append ()\n"
      ],
      "metadata": {
        "id": "Cbtbks3QZ0AP"
      },
      "execution_count": null,
      "outputs": []
    },
    {
      "cell_type": "code",
      "execution_count": null,
      "metadata": {
        "colab": {
          "base_uri": "https://localhost:8080/"
        },
        "id": "osoIybfGznB0",
        "outputId": "064296de-5e89-4ad5-ecba-79b1e9aebe21"
      },
      "outputs": [
        {
          "name": "stdout",
          "output_type": "stream",
          "text": [
            "[1, 'None', 'None', 'None', 'None', 'None', 'None', 'None', 'None']\n",
            "[1, 3, 'None', 'None', 'None', 'None', 'None', 'None', 'None']\n",
            "[1, 3, 4, 'None', 'None', 'None', 'None', 'None', 'None']\n"
          ]
        }
      ],
      "source": [
        "list1 = [1,3,4]\n",
        "list2 = [1,2,5]\n",
        "list3 = [\"None\"]*(len(list1)+len(list2)*2)\n",
        "n = 0\n",
        "for i in list1:\n",
        "    for g in list2:\n",
        "      if i < g:\n",
        "        list3[n] = i\n",
        "        n+=1\n",
        "        break\n",
        "    print(list3)\n",
        "\n",
        "\n",
        "#       if i < g:\n",
        "#         list3[n] = i\n",
        "#         list3[n+1] = g\n",
        "#         print(n)\n",
        "#       else:\n",
        "#         list3[n] = g\n",
        "#         list3[n+1] = i\n",
        "#       elif:\n",
        "#         i=g\n",
        "#       n+= 1\n",
        "# print(list3)"
      ]
    },
    {
      "cell_type": "code",
      "execution_count": null,
      "metadata": {
        "colab": {
          "base_uri": "https://localhost:8080/"
        },
        "id": "Hy9C6FfzAIcm",
        "outputId": "173dda45-3755-4d1d-8061-a7abfff79507"
      },
      "outputs": [
        {
          "name": "stdout",
          "output_type": "stream",
          "text": [
            "1 картошка\n",
            "2 картошка\n",
            "3 картошка\n",
            "4 картошка\n",
            "5 картошка\n",
            "6 картошка\n",
            "7 картошка\n",
            "8 картошка\n",
            "9 картошка\n",
            "10 картошка\n"
          ]
        }
      ],
      "source": [
        "lst2 = [\"картошка\"] *10\n",
        "for i in range(1, len(lst2)+1):\n",
        "  print(i, lst2[i-1])\n"
      ]
    },
    {
      "cell_type": "code",
      "execution_count": null,
      "metadata": {
        "colab": {
          "base_uri": "https://localhost:8080/"
        },
        "id": "ibfzrJeYLnZl",
        "outputId": "696425dc-259c-47c6-f1a3-2dfebf71d516"
      },
      "outputs": [
        {
          "name": "stdout",
          "output_type": "stream",
          "text": [
            "0 a\n",
            "1 b\n",
            "2 c\n",
            "3 d\n",
            "4 e\n"
          ]
        }
      ],
      "source": [
        "lst2 = ['a', 'b', 'c', 'd', 'e']\n",
        "for i,x in enumerate(lst2):\n",
        "  print(i,x)"
      ]
    },
    {
      "cell_type": "code",
      "source": [
        "# Вывести все уникальные значения листа и сравнить длины листов\n",
        "import numpy as np\n",
        "list1 = [1,2,3,4,5,1]\n",
        "list1_np = set(list1)\n",
        "if len(list1) != len(list1_np):\n",
        "  print(True)\n",
        "else:\n",
        "  print(False)"
      ],
      "metadata": {
        "id": "VEPfZrno_aWk"
      },
      "execution_count": null,
      "outputs": []
    },
    {
      "cell_type": "code",
      "source": [
        "list14 = [1, 2, 3, 1,]\n",
        "    # Создаем словарь с ключами от 1 до 10 и нулевыми значениями\n",
        "request_count = {i: 0 for i in range(1, 11)}\n",
        "\n",
        "    # Обрабатываем каждый запрос\n",
        "for req in list14:\n",
        "  if req in request_count: # проверяем есть ли число в нашем дике\n",
        "     request_count[req] += 1  # Увеличиваем счетчик для ключа т.е. записываем в значение 0+1\n",
        "\n",
        "    # Проверяем количество запросов для каждого ключа и выводим результат\n",
        "for key, count in request_count.items():\n",
        "    if count >= 2:\n",
        "        print(f'Key {key}: True')\n",
        "    elif count == 1:\n",
        "        print(f'Key {key}: False')\n",
        "\n",
        "# # Пример использования\n",
        "# requests_list = [1, 2, 3, 1, 4, 5, 6, 2, 2, 10, 5]\n",
        "# process_requests(requests_list)"
      ],
      "metadata": {
        "id": "ekPBAa1m_d1B"
      },
      "execution_count": null,
      "outputs": []
    },
    {
      "cell_type": "code",
      "source": [
        "# Добавить из листа в dict и если такой ключ уже есть то вывести True а как только все добавили но нет повтора то False\n",
        "def hish (list1):\n",
        "  dict_sample = {}\n",
        "  for i in list1:\n",
        "    if i in dict_sample:\n",
        "      return True\n",
        "    else:\n",
        "      dict_sample[i] = 0\n",
        "  return False\n",
        "list1 = [1,2,3,4,5,1]\n",
        "print(hish(list1))"
      ],
      "metadata": {
        "id": "5lxw-gwt_krM"
      },
      "execution_count": null,
      "outputs": []
    },
    {
      "cell_type": "code",
      "source": [
        "def is_valid(input_string: str) -> bool:\n",
        "  stack = []\n",
        "  dict1 = {\n",
        "      \"]\":\"[\",\n",
        "      \")\":\"(\",\n",
        "      \"}\":\"{\"\n",
        "  }\n",
        "  for i in input_string:\n",
        "      if i in dict1:\n",
        "        top_elem = stack.pop()\n",
        "        if dict1[i] != top_elem:\n",
        "          return False\n",
        "      else: stack.append(i)\n",
        "  return not stack\n",
        "\n",
        "print(is_valid('({})')) # True\n",
        "print(is_valid('({)}')) # False\n",
        "print(is_valid('({{{}}()})')) # True"
      ],
      "metadata": {
        "colab": {
          "base_uri": "https://localhost:8080/"
        },
        "id": "VabaBp8RSZVR",
        "outputId": "30d1453c-b241-4007-dcf0-61ae6cd9f6f2"
      },
      "execution_count": null,
      "outputs": [
        {
          "output_type": "stream",
          "name": "stdout",
          "text": [
            "True\n",
            "False\n",
            "True\n"
          ]
        }
      ]
    },
    {
      "cell_type": "code",
      "source": [
        "def isPalindrome(x: int) -> bool:\n",
        "    str_x = str(x)\n",
        "    return x == str_x[::-1]\n",
        "\n",
        "print(isPalindrome(-121))"
      ],
      "metadata": {
        "id": "0zKDxrPMle-X",
        "colab": {
          "base_uri": "https://localhost:8080/"
        },
        "outputId": "ecd18e93-417a-411f-f25a-8b229f463473"
      },
      "execution_count": null,
      "outputs": [
        {
          "output_type": "stream",
          "name": "stdout",
          "text": [
            "False\n"
          ]
        }
      ]
    },
    {
      "cell_type": "code",
      "source": [
        "def romanToInt(self, s: str) -> int:\n",
        "    dic1 = {\n",
        "        \"I\" : 1,\n",
        "        \"V\" : 5,\n",
        "        \"X\" : 10,\n",
        "        \"L\" : 50,\n",
        "        \"C\" : 100,\n",
        "        \"D\" : 500,\n",
        "        \"M\" : 1000\n",
        "        }\n",
        "    list2 = []\n",
        "    list = s\n",
        "    print(s)\n",
        "    for i in s:\n",
        "        if s in dict1:\n",
        "            s.pop = list2\n",
        "            print(s)\n",
        "print(romanToInt(III))"
      ],
      "metadata": {
        "colab": {
          "base_uri": "https://localhost:8080/",
          "height": 176
        },
        "id": "Sjr4n4ylc8_N",
        "outputId": "fccc44b6-2a85-49dd-fb7f-f5abbe4c1a9d"
      },
      "execution_count": null,
      "outputs": [
        {
          "output_type": "error",
          "ename": "NameError",
          "evalue": "name 'III' is not defined",
          "traceback": [
            "\u001b[0;31m---------------------------------------------------------------------------\u001b[0m",
            "\u001b[0;31mNameError\u001b[0m                                 Traceback (most recent call last)",
            "\u001b[0;32m<ipython-input-27-2b2d5a7c0070>\u001b[0m in \u001b[0;36m<cell line: 18>\u001b[0;34m()\u001b[0m\n\u001b[1;32m     16\u001b[0m             \u001b[0ms\u001b[0m\u001b[0;34m.\u001b[0m\u001b[0mpop\u001b[0m \u001b[0;34m=\u001b[0m \u001b[0mlist2\u001b[0m\u001b[0;34m\u001b[0m\u001b[0;34m\u001b[0m\u001b[0m\n\u001b[1;32m     17\u001b[0m             \u001b[0mprint\u001b[0m\u001b[0;34m(\u001b[0m\u001b[0ms\u001b[0m\u001b[0;34m)\u001b[0m\u001b[0;34m\u001b[0m\u001b[0;34m\u001b[0m\u001b[0m\n\u001b[0;32m---> 18\u001b[0;31m \u001b[0mprint\u001b[0m\u001b[0;34m(\u001b[0m\u001b[0mromanToInt\u001b[0m\u001b[0;34m(\u001b[0m\u001b[0mIII\u001b[0m\u001b[0;34m)\u001b[0m\u001b[0;34m)\u001b[0m\u001b[0;34m\u001b[0m\u001b[0;34m\u001b[0m\u001b[0m\n\u001b[0m",
            "\u001b[0;31mNameError\u001b[0m: name 'III' is not defined"
          ]
        }
      ]
    },
    {
      "cell_type": "markdown",
      "metadata": {
        "id": "VWcAr0Kd_MkW"
      },
      "source": [
        "#Из курса"
      ]
    },
    {
      "cell_type": "code",
      "execution_count": null,
      "metadata": {
        "colab": {
          "base_uri": "https://localhost:8080/"
        },
        "id": "HwSQAYBDBf67",
        "outputId": "28eab143-4364-481f-cb6a-db46e7f0588f"
      },
      "outputs": [
        {
          "name": "stdout",
          "output_type": "stream",
          "text": [
            "Hello, Joffrey!\n",
            "Here is important information about your account security.\n",
            "We couldn't verify your mother's maiden name.\n"
          ]
        }
      ],
      "source": [
        "info = \"We couldn't verify your mother's maiden name.\"\n",
        "intro = \"Here is important information about your account security.\"\n",
        "\n",
        "first_name = 'Joffrey'\n",
        "greeting = 'Hello'\n",
        "\n",
        "# BEGIN (write your solution here)\n",
        "print (greeting  + \", \" + first_name + \"!\\n\" + intro + \"\\n\" + info)\n",
        "# END\n"
      ]
    },
    {
      "cell_type": "code",
      "execution_count": null,
      "metadata": {
        "colab": {
          "base_uri": "https://localhost:8080/"
        },
        "id": "yt6oakY_E8-Z",
        "outputId": "807cda35-d166-4b12-fdc7-51533cf655df"
      },
      "outputs": [
        {
          "name": "stdout",
          "output_type": "stream",
          "text": [
            "10\n"
          ]
        }
      ],
      "source": [
        "a = 4\n",
        "d = 6\n",
        "print (a+d)"
      ]
    },
    {
      "cell_type": "code",
      "execution_count": null,
      "metadata": {
        "colab": {
          "base_uri": "https://localhost:8080/"
        },
        "id": "f9Ww3QhNHBlA",
        "outputId": "b9932762-a17e-4906-8ef6-064e6d7e1db6"
      },
      "outputs": [
        {
          "name": "stdout",
          "output_type": "stream",
          "text": [
            "Rooms in King Balon's Castles:\n",
            "102\n"
          ]
        }
      ],
      "source": [
        "king = \"Rooms in King Balon's Castles:\"\n",
        "\n",
        "# BEGIN (write your solution here)\n",
        "castle = 17\n",
        "room = 6\n",
        "total_room = castle * room\n",
        "print (king + \"\\n\" + str(total_room))\n",
        "# END\n"
      ]
    },
    {
      "cell_type": "code",
      "execution_count": null,
      "metadata": {
        "colab": {
          "base_uri": "https://localhost:8080/"
        },
        "id": "r3xU30aOguBH",
        "outputId": "fb85a287-29bc-47ba-a7b9-f9ea03e1858f"
      },
      "outputs": [
        {
          "name": "stdout",
          "output_type": "stream",
          "text": [
            "t\n"
          ]
        }
      ],
      "source": [
        "value = 'Hexlet'\n",
        "\n",
        "# BEGIN (write your solution here)\n",
        "print (value[-1::])\n",
        "# END\n"
      ]
    },
    {
      "cell_type": "code",
      "execution_count": null,
      "metadata": {
        "colab": {
          "base_uri": "https://localhost:8080/"
        },
        "id": "7Ik5aViO0Kr0",
        "outputId": "0571f1a2-f804-4b7d-9228-024ddf8ba6ee"
      },
      "outputs": [
        {
          "name": "stdout",
          "output_type": "stream",
          "text": [
            "1092\n"
          ]
        }
      ],
      "source": [
        "print(ord('ф'))\n"
      ]
    },
    {
      "cell_type": "code",
      "execution_count": null,
      "metadata": {
        "colab": {
          "base_uri": "https://localhost:8080/"
        },
        "id": "F3YIsJSrCX6d",
        "outputId": "0e9176ff-f02d-4d59-b081-78ecc6b6a7e8"
      },
      "outputs": [
        {
          "name": "stdout",
          "output_type": "stream",
          "text": [
            "hodor\n",
            "hodor\n"
          ]
        }
      ],
      "source": [
        "one = 'Naharis'\n",
        "two = 'Mormont'\n",
        "three = 'Sand'\n",
        "\n",
        "# BEGIN (write your solution here)\n",
        "print(one[2] + two[1] + three[3] + two[4] + two[2])\n",
        "print(f'{one[2]}{two[1]}{three[3]}{two[4]}{two[2]}')\n",
        "# END\n"
      ]
    },
    {
      "cell_type": "code",
      "execution_count": null,
      "metadata": {
        "colab": {
          "base_uri": "https://localhost:8080/"
        },
        "id": "2g6mB3osDnyM",
        "outputId": "ce13afd8-590b-43e4-b3ea-0dc0fc531ea7"
      },
      "outputs": [
        {
          "name": "stdout",
          "output_type": "stream",
          "text": [
            "2times\n"
          ]
        }
      ],
      "source": [
        "value = 2.9\n",
        "value_str = str(int(value))\n",
        "# BEGIN (write your solution here)\n",
        "print (value_str + \" times\")\n",
        "# END\n"
      ]
    },
    {
      "cell_type": "code",
      "execution_count": null,
      "metadata": {
        "colab": {
          "base_uri": "https://localhost:8080/"
        },
        "id": "BTYHlip0HKX7",
        "outputId": "901dd283-b368-470b-dca2-198544906ac7"
      },
      "outputs": [
        {
          "name": "stdout",
          "output_type": "stream",
          "text": [
            "10.12\n"
          ]
        }
      ],
      "source": [
        "number = 10.1234\n",
        "\n",
        "# BEGIN (write your solution here)\n",
        "print(round(number,2))\n",
        "# END\n"
      ]
    },
    {
      "cell_type": "code",
      "execution_count": null,
      "metadata": {
        "colab": {
          "base_uri": "https://localhost:8080/"
        },
        "id": "xD7LKmdUH1bD",
        "outputId": "aa53ca99-7d6f-4dd6-cdb1-495f4d6b2161"
      },
      "outputs": [
        {
          "name": "stdout",
          "output_type": "stream",
          "text": [
            "Nt\n"
          ]
        }
      ],
      "source": [
        "text = 'Never forget what you are, for surely the world will not'\n",
        "text_len = len(text)\n",
        "print(text[0] + text[text_len-1])\n"
      ]
    },
    {
      "cell_type": "code",
      "execution_count": null,
      "metadata": {
        "colab": {
          "base_uri": "https://localhost:8080/"
        },
        "id": "WUnfXEGYVLzf",
        "outputId": "a49032db-6c57-4399-d3aa-08f691c2e85c"
      },
      "outputs": [
        {
          "name": "stdout",
          "output_type": "stream",
          "text": [
            "5\n",
            "-125\n"
          ]
        }
      ],
      "source": [
        "x = -5\n",
        "print(abs(x))  # вызывает x.__abs__()\n",
        "# -5 в 3 степени\n",
        "print(pow(x, 3))  # вызывает x.__pow__(3)"
      ]
    },
    {
      "cell_type": "code",
      "execution_count": null,
      "metadata": {
        "colab": {
          "base_uri": "https://localhost:8080/"
        },
        "id": "kRTgnAS3YBaW",
        "outputId": "17010c55-7683-4c22-f6f5-80f9eea8fcdd"
      },
      "outputs": [
        {
          "name": "stdout",
          "output_type": "stream",
          "text": [
            "Index Of N: 0\n",
            "Index Of ,:25\n",
            "Index Of N: 0\n",
            "Index Of ,:25\n"
          ]
        }
      ],
      "source": [
        "text = 'Never forget what you are, for surely the world will not'\n",
        "\n",
        "# BEGIN (write your solution here)\n",
        "print(\"Index Of N: \" + str(text.find(\"N\")) + \"\\n\" + \"Index Of ,: \" + str(text.find(\",\")))\n",
        "# END"
      ]
    },
    {
      "cell_type": "code",
      "execution_count": null,
      "metadata": {
        "colab": {
          "base_uri": "https://localhost:8080/"
        },
        "id": "d-A59Iy1aHUF",
        "outputId": "fe412958-9e62-4d57-ffb0-cd929b20413f"
      },
      "outputs": [
        {
          "name": "stdout",
          "output_type": "stream",
          "text": [
            " \t\n",
            " you pl\n"
          ]
        }
      ],
      "source": [
        "text = 'When \\t\\n you play a \\t\\n game of thrones you win or you die.'\n",
        "\n",
        "# BEGIN (write your solution here)\n",
        "print(text[4:14])\n",
        "# END"
      ]
    },
    {
      "cell_type": "code",
      "execution_count": null,
      "metadata": {
        "id": "BTNnb7nWdCN0"
      },
      "outputs": [],
      "source": [
        "def greeting_with_return_and_printing():\n",
        "    print('Я появлюсь в консоли')\n",
        "    return 'Hello, Hexlet!'"
      ]
    },
    {
      "cell_type": "code",
      "source": [
        "def say_hurray_three_times():\n",
        "    hurray = \"hurray! hurray! hurray!\"\n",
        "    print(hurray)\n",
        "\n",
        "say_hurray_three_times()"
      ],
      "metadata": {
        "colab": {
          "base_uri": "https://localhost:8080/"
        },
        "id": "x4vC0DKhACGW",
        "outputId": "3bdc3caf-e5d6-4a77-bc0a-b150c1a096b4"
      },
      "execution_count": null,
      "outputs": [
        {
          "output_type": "stream",
          "name": "stdout",
          "text": [
            "hurray! hurray! hurray!\n"
          ]
        }
      ]
    },
    {
      "cell_type": "code",
      "source": [
        "def truncate(text, length):\n",
        "    # BEGIN (write your solution here)\n",
        "    print(text[0:length]+\"...\")\n",
        "    # END\n",
        "truncate(\"hexlet\", 2)"
      ],
      "metadata": {
        "colab": {
          "base_uri": "https://localhost:8080/"
        },
        "id": "3dkVH2ViT-Rw",
        "outputId": "7acfcb96-0fbf-42ba-a0ff-c421fcc1f7ee"
      },
      "execution_count": null,
      "outputs": [
        {
          "output_type": "stream",
          "name": "stdout",
          "text": [
            "he...\n"
          ]
        }
      ]
    },
    {
      "cell_type": "code",
      "source": [
        "def get_hidden_card(numder_card, index = 4):\n",
        "    print('*'*index + numder_card[-4:])\n",
        "get_hidden_card (\"1234123412341234\",3)"
      ],
      "metadata": {
        "colab": {
          "base_uri": "https://localhost:8080/"
        },
        "id": "cSbLuNatdAVb",
        "outputId": "becbb8d1-b1de-4cd2-9661-e37a1bd4fc1d"
      },
      "execution_count": null,
      "outputs": [
        {
          "output_type": "stream",
          "name": "stdout",
          "text": [
            "***1234\n"
          ]
        }
      ]
    },
    {
      "cell_type": "code",
      "source": [],
      "metadata": {
        "colab": {
          "base_uri": "https://localhost:8080/"
        },
        "id": "Qqq9s0esrjbh",
        "outputId": "44a41e88-83a3-4b26-b52c-d241e040b992"
      },
      "execution_count": null,
      "outputs": [
        {
          "output_type": "stream",
          "name": "stdout",
          "text": [
            "Key 1: True\n",
            "Key 2: False\n",
            "Key 3: False\n"
          ]
        }
      ]
    },
    {
      "cell_type": "code",
      "source": [],
      "metadata": {
        "colab": {
          "base_uri": "https://localhost:8080/"
        },
        "id": "Jguk1CSV0OSL",
        "outputId": "0030bb8d-8f3a-4f80-81a1-f6921fa42c3d"
      },
      "execution_count": null,
      "outputs": [
        {
          "output_type": "stream",
          "name": "stdout",
          "text": [
            "True\n"
          ]
        }
      ]
    },
    {
      "cell_type": "code",
      "source": [],
      "metadata": {
        "colab": {
          "base_uri": "https://localhost:8080/"
        },
        "id": "oHYCY2853HJU",
        "outputId": "febf2458-8e83-42b4-9161-15fe3b68a8e8"
      },
      "execution_count": null,
      "outputs": [
        {
          "output_type": "stream",
          "name": "stdout",
          "text": [
            "True\n"
          ]
        }
      ]
    },
    {
      "cell_type": "markdown",
      "metadata": {
        "id": "23zlblkJru-a"
      },
      "source": [
        "#vecjh"
      ]
    },
    {
      "cell_type": "code",
      "execution_count": null,
      "metadata": {
        "colab": {
          "base_uri": "https://localhost:8080/"
        },
        "id": "XZbQ7EAhLxH9",
        "outputId": "e36a639a-ac40-4448-f4f0-196642ec76b2"
      },
      "outputs": [
        {
          "name": "stdout",
          "output_type": "stream",
          "text": [
            "введите число строк 5\n",
            "Умножаю * на 1: *\n",
            "Умножаю * на 2: **\n",
            "Умножаю * на 3: ***\n",
            "Умножаю * на 4: ****\n",
            "Умножаю * на 5: *****\n"
          ]
        }
      ],
      "source": [
        "n = int(input(\"введите число строк \"))\n",
        "zvez = \"*\"\n",
        "for i in range(1, n+1):\n",
        "  zv= zvez * i\n",
        "  print(\"Умножаю * на \" + str(i) + \": \" + str(zv) )"
      ]
    },
    {
      "cell_type": "code",
      "execution_count": null,
      "metadata": {
        "colab": {
          "base_uri": "https://localhost:8080/"
        },
        "id": "u9idR1ruQlV7",
        "outputId": "d46ca867-e745-4484-adca-0ecda2a232f7"
      },
      "outputs": [
        {
          "name": "stdout",
          "output_type": "stream",
          "text": [
            "введите целые числа через пробел 3 -5 2 4 12 7 3 4 6 9 25 -50 12 35 2 11\n",
            "[3, -5, 2, 4, 12, 7, 3, 4, 6, 9, 25, -50, 12, 35, 2, 11]\n",
            "Сумма положительных чисел: 135\n",
            "Произведение всех отрицательных чисел: 250\n",
            "минимальное число: -50\n",
            "максимальное число: 35\n"
          ]
        }
      ],
      "source": [
        "# Напишите программу, которая получает от пользователя строку целых чисел, и выводит:\n",
        "\n",
        "# Количество положительных чисел.\n",
        "# Произведение всех отрицательных чисел.\n",
        "# Минимальное и максимальное числа без использования функций min() и max().\n",
        "# Пример ввода:\n",
        "\n",
        "# 3 -5 2 4 12 7 3 4 6 9 25 -50 12 35 2 11\n",
        "# Вывод:\n",
        "\n",
        "# Количество положительных чисел: 14\n",
        "# Произведение отрицательных чисел: 250\n",
        "# Минимальное число: -50\n",
        "# Максимальное число: 35\n",
        "lst = list(map(int, (input(\"введите целые числа через пробел \").split())))\n",
        "print (lst)\n",
        "pos = 0\n",
        "otr = 1\n",
        "for i in lst:\n",
        "  if i > 0:\n",
        "    pos += i\n",
        "  elif i < 0:\n",
        "      otr *= i\n",
        "print (\"Сумма положительных чисел: \" + str(pos))\n",
        "print (\"Произведение всех отрицательных чисел: \" + str(otr))\n",
        "print (\"минимальное число:\", min(lst))\n",
        "print (\"максимальное число:\", max(lst))\n"
      ]
    },
    {
      "cell_type": "code",
      "execution_count": null,
      "metadata": {
        "id": "ENT1yog3f0o9"
      },
      "outputs": [],
      "source": [
        "# Напишите программу, которая создает вложенный список из n строк, полученных от пользователя, и выводит сумму и произведение элементов каждого подсписка (без использования sum() и math.prod()).\n",
        "\n",
        "# Пример ввода:\n",
        "\n",
        "# 6\n",
        "# 4 5 6 7 8\n",
        "# 2 1 3 9 8\n",
        "# 6 4 3 2 6\n",
        "# 9 7 6 3 2\n",
        "# 1 4 5 7 2\n",
        "# 7 3 2 1 6\n",
        "# Вывод:\n",
        "\n",
        "# Подсписок 0: сумма чисел = 30, произведение = 6720\n",
        "# Подсписок 1: сумма чисел = 53, произведение = 2903040\n",
        "# Подсписок 2: сумма чисел = 74, произведение = 2508226560\n",
        "# Подсписок 3: сумма чисел = 101, произведение = 5688657838080\n",
        "# Подсписок 4: сумма чисел = 120, произведение = 1592824194662400\n",
        "# Подсписок 5: сумма чисел = 139, произведение = 401391697054924800\n",
        "num = int(input(\"введите количество строк\"))\n",
        "list = []\n",
        "for i in range(len(list)-1):\n",
        "    print(\"Подсписок\", i,\":\", \"сумма чисел = \",  )\n",
        "    for i in list:\n"
      ]
    },
    {
      "cell_type": "code",
      "execution_count": null,
      "metadata": {
        "colab": {
          "base_uri": "https://localhost:8080/"
        },
        "id": "pg_odL3jAUt0",
        "outputId": "8e5c30c0-5b5a-437c-a06e-8d79f03c32e2"
      },
      "outputs": [
        {
          "name": "stdout",
          "output_type": "stream",
          "text": [
            "3\n",
            "1 2 3\n",
            "4 5 6\n",
            "7 8 9\n",
            "Подсписок 0: сумма чисел = 6, произведение = 6\n",
            "Подсписок 1: сумма чисел = 21, произведение = 720\n",
            "Подсписок 2: сумма чисел = 45, произведение = 362880\n"
          ]
        }
      ],
      "source": [
        "n = int(input())\n",
        "lst = []\n",
        "for i in range(n):\n",
        "    lst.append(list(map(int, input().split())))\n",
        "\n",
        "summa = 0\n",
        "prod = 1\n",
        "for i, j in enumerate(lst):\n",
        "    for num in j:\n",
        "        summa += num\n",
        "        prod *= num\n",
        "    print(f'Подсписок {i}: сумма чисел = {summa}, произведение = {prod}')"
      ]
    },
    {
      "cell_type": "code",
      "execution_count": null,
      "metadata": {
        "id": "hvKbdVYIAV2A"
      },
      "outputs": [],
      "source": []
    },
    {
      "cell_type": "markdown",
      "metadata": {
        "id": "zqUYHdJ3MDg_"
      },
      "source": [
        "#Пары по алгосам"
      ]
    },
    {
      "cell_type": "code",
      "execution_count": null,
      "metadata": {
        "id": "jVVgiZHZMC3w"
      },
      "outputs": [],
      "source": [
        "class Node()\n",
        "  def __init__(self):\n",
        "    self.data = d\n",
        "    self.next = None\n",
        "    # def get_next\n",
        "\n",
        "class LinkenList():\n",
        "  def __init__()\n",
        "    self.head = None\n",
        "    self.size = 0\n",
        "  def add(self, data):\n",
        "    is self.head is None\n",
        "        self.head = None(data)\n",
        "        if self.head in None"
      ]
    }
  ],
  "metadata": {
    "colab": {
      "collapsed_sections": [
        "VWcAr0Kd_MkW"
      ],
      "provenance": []
    },
    "kernelspec": {
      "display_name": "Python 3",
      "name": "python3"
    },
    "language_info": {
      "name": "python"
    }
  },
  "nbformat": 4,
  "nbformat_minor": 0
}